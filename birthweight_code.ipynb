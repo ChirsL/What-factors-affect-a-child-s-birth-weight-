{
 "cells": [
  {
   "cell_type": "raw",
   "metadata": {},
   "source": [
    "## STAT300, Written Assignment #1"
   ]
  },
  {
   "cell_type": "markdown",
   "metadata": {},
   "source": [
    "                                                                        Chun-Yu Lin\n",
    "                                                                        15787154\n",
    "                                                                        Lab L1A"
   ]
  },
  {
   "cell_type": "markdown",
   "metadata": {},
   "source": [
    "### Problem 1  \n",
    "\n",
    "### a)  \n",
    "\n",
    "i)    \n",
    "$Ha$: The three programs are not equally effective  \n",
    "      $Ho$: The three programs are equally effective  \n",
    "ii)   \n",
    "The distribution of the program is not normal, due to small sample size $(n<20)$  \n",
    "iii)  \n",
    "t-test is inappropriate when the sample size is too small $(n<20)$, and by looking at the distribution the program data, we know the distribution of sample of each program is not normally distributed  "
   ]
  },
  {
   "cell_type": "markdown",
   "metadata": {},
   "source": [
    "### b)  \n",
    "i)\n",
    "#### compute ANOVA first:  \n",
    "$Ho : \\mu1 = \\mu2 = \\mu3$   \n",
    "$Ha :$ at least 1 $\\mu$ is different  \n",
    "$\\alpha=0.05$  \n",
    "$k =$ number of groups $= 3$   \n",
    "$N =$ number of data points in total $=12$  \n",
    "$df_{between} = k -1 =3-1=2$  \n",
    "$df_{within} = N-k = 12-3 = 9$  \n",
    "$df_{total} = 9+2 =11$  \n",
    "$F_{crit}=4.26$ => from the ANOVA table  \n",
    "  \n",
    "$\\bar{X_1} = \\frac{2+3+0+1}{4} = 1.5$  \n",
    "  \n",
    "$\\bar{X_2} = \\frac{0+1+2}{3} = 1$  \n",
    "  \n",
    "$\\bar{X_3} = \\frac{3+3+4+0+5}{5} = 3$"
   ]
  },
  {
   "cell_type": "markdown",
   "metadata": {},
   "source": [
    "Grand mean = {sum of all data point}/{total number of sample} $= \\frac{24}{23} = 2$  \n",
    "\n",
    "$SS_{total} =$ sum of Square total $=$ $\\sum (X-\\bar{\\bar{X}})^2 = (2-2)^2+(3-2)^2+(0-2)^2+(1-2)^2+(0-2)^2+(1-2)^2+(2-2)^2+(3-2)^2+(3-2)^2+(4-2)^2+(0-2)^2+(5-2)^2 = 30$ \n",
    "  \n",
    "$SS_{within}= \\sum(X_1-\\bar{X_1})^2+(X_2-\\bar{X_2})+(X_3-\\bar{X_3}) = (2-1.5)^2+(3-1.5)^2+(0-1.5)^2+(1-1.5)^2+(0-1)^2+(1-1)^2+(2-1)^2+(3-3)^2+(3-3)^2+(4-3)^2+(0-3)^2+(5-3)^2 = 21$ "
   ]
  },
  {
   "cell_type": "code",
   "execution_count": 4,
   "metadata": {
    "collapsed": false
   },
   "outputs": [
    {
     "data": {
      "text/plain": [
       "21.0"
      ]
     },
     "execution_count": 4,
     "metadata": {},
     "output_type": "execute_result"
    }
   ],
   "source": [
    "(2-1.5)**2+(3-1.5)**2+(0-1.5)**2+(1-1.5)**2+(0-1)**2\n",
    "+(1-1)**2+(2-1)**2+(3-3)**2+(3-3)**2+(4-3)**2+(0-3)**2\n",
    "+(5-3)**2"
   ]
  },
  {
   "cell_type": "markdown",
   "metadata": {},
   "source": [
    "$SS_{betweem} = SS_{total}-SS_{within} = 30-21 = 9$"
   ]
  },
  {
   "cell_type": "markdown",
   "metadata": {},
   "source": [
    "Mean Square_between = $MS_{between} = \\frac{SS_{between}}{df_{between}} =  \\frac{9}{2} = 4.5$  \n",
    "Mean Square_winthin = $MS_{within} = \\frac{SS_{within}}{dr_{within}} = \\frac{21}{9} = \\frac{7}{3} = 2.3333$\n"
   ]
  },
  {
   "cell_type": "markdown",
   "metadata": {},
   "source": [
    "$F_{val} = \\frac{MS_{between}}{MS_{within}} = \\frac{4.5}{7/3} = 1.929$"
   ]
  },
  {
   "cell_type": "markdown",
   "metadata": {},
   "source": [
    "$F_{cri} > F_{val}$, then Fail to reject $Ho$\n"
   ]
  },
  {
   "cell_type": "markdown",
   "metadata": {},
   "source": [
    "#### compute Kruskal Wallis :   \n",
    "$Ho :$ The three probabilities distributions are the same  \n",
    "$Ha :$ At least one probability distribution is different  \n",
    "$\\alpha = 0.05$  \n",
    "$N =$ total number of data points  \n",
    "$R_i=$ Rank in $i$ program  \n",
    "$N_i=$ number of data points in program $i$  \n",
    "$Df =$ number of groups of sample$-1$\n",
    "\n",
    "formula:\n",
    "$$H = \\frac{12}{N(N+1)}\\sum\\frac{{R_i}^2}{N_i}-3(N+1)$$"
   ]
  },
  {
   "cell_type": "markdown",
   "metadata": {},
   "source": [
    "    Rank all the data points:  \n",
    "        rank = 1  2  3  4  5  6  7  8  9  10  11  12  \n",
    "        data = 0  0  0  1  1  2  2  3  3  3   4   5"
   ]
  },
  {
   "cell_type": "markdown",
   "metadata": {},
   "source": [
    "    Sort the Ranks:  \n",
    "        rank = 2  2  2  4.5  4.5 6.5 6.5  9  9  9  11  12  \n",
    "        data = 0  0  0   1    1   2   2   3  3  3   4   5"
   ]
  },
  {
   "cell_type": "markdown",
   "metadata": {},
   "source": [
    "    put them back to their program:  \n",
    "        Program I :  6.5, 9, 2, 4.5  -> R1  \n",
    "        Program II:  2, 4.5, 6.5     -> R2  \n",
    "        Program III: 9, 9, 11, 2, 12 -> R3"
   ]
  },
  {
   "cell_type": "markdown",
   "metadata": {},
   "source": [
    "    R1 = 22   N1 = 4  \n",
    "    R2 = 13   N2 = 3  \n",
    "    R3 = 43   N3 = 5  "
   ]
  },
  {
   "cell_type": "markdown",
   "metadata": {},
   "source": [
    "$$H = \\frac{12}{12(12+1)}\\sum\\frac{{R_i}^2}{N_i}-3(12+1)$$"
   ]
  },
  {
   "cell_type": "code",
   "execution_count": 34,
   "metadata": {
    "collapsed": false
   },
   "outputs": [],
   "source": [
    "H_val = 12/(12*13)*(((22**2)/4)+((13**2)/3)+((43**2/5)))-3*(12+1)"
   ]
  },
  {
   "cell_type": "code",
   "execution_count": 35,
   "metadata": {
    "collapsed": false
   },
   "outputs": [
    {
     "name": "stdout",
     "output_type": "stream",
     "text": [
      "3.0871794871794904\n"
     ]
    }
   ],
   "source": [
    "print(H_val)"
   ]
  },
  {
   "cell_type": "markdown",
   "metadata": {},
   "source": [
    "Kruskal Wallis follows a chi-square distribution  \n",
    "so we look at the p-value table for chi-square, with $Df=2$ \n",
    "  \n",
    "${\\chi}^2_{crit} = 5.991$ -> from the chi-square distribution table "
   ]
  },
  {
   "cell_type": "markdown",
   "metadata": {},
   "source": [
    "$H < {\\chi}^2_{crit}$   \n",
    "Therefore cannot reject $Ho$  \n",
    "There's no difference between three weightloss programs"
   ]
  },
  {
   "cell_type": "markdown",
   "metadata": {},
   "source": [
    "#### Use R to compute both tests then compare the results  \n",
    "  Anova p-val: 0.2009\n",
    "  \n",
    "  Kruskal test p-val: 0.202\n",
    "  \n",
    "Final result: The value computed from R and by hand are similar and we cannot reject $Ho$ therefore we can conclude that there is no difference between three weightloss programs. "
   ]
  },
  {
   "cell_type": "markdown",
   "metadata": {},
   "source": [
    "#### c)  \n",
    "#### i) compute 2-sample t-test first \n",
    "\n",
    "  \n",
    "$Ho :\\mu_2-\\mu_3 = 0$  \n",
    "$Ha :\\mu_2-\\mu_3 \\ne 0$   \n",
    "\n",
    "$T = \\frac{\\bar{Y_2}-{\\bar{Y_3}}}{S_p\\sqrt{\\frac{1}{N_2}+\\frac{1}{N_3}}} = \\frac{1-3}{S_p\\sqrt{\\frac{1}{3}+\\frac{1}{5}}}$ "
   ]
  },
  {
   "cell_type": "markdown",
   "metadata": {},
   "source": [
    "$S_2= \\sqrt{\\frac{\\sum{|X-\\bar{X}|^2}}{n}} = \\sqrt{\\frac{(0-1)^2+(1-1)^2+(2-1)^2}{2}} = 1$"
   ]
  },
  {
   "cell_type": "markdown",
   "metadata": {},
   "source": [
    "$S_3= \\sqrt{\\frac{\\sum{|X-\\bar{X}|^2}}{n}} = \\sqrt{\\frac{(3-3)^2+(3-3)^2+(4-3)^2+(0-3)^2+(5-3)^2}{2}} = \\sqrt{3.5}$"
   ]
  },
  {
   "cell_type": "markdown",
   "metadata": {},
   "source": [
    "$S_p = \\sqrt{\\frac{(N_2-1)s^2_2+(N_3-1)s^2_3}{N_2+N_3-2}} = \\sqrt{\\frac{(3-1)1+(5-1)7}{3+5-2}} = \\sqrt{2.67}$"
   ]
  },
  {
   "cell_type": "markdown",
   "metadata": {},
   "source": [
    "$T = \\frac{1-3}{\\sqrt{2.67}*\\sqrt{\\frac{1}{3}+\\frac{1}{5}}} = -1.6771$  \n",
    "  \n",
    "From the t-table we get a P-val of 0.097"
   ]
  },
  {
   "cell_type": "markdown",
   "metadata": {},
   "source": [
    "`t.test(ProgramII, ProgramIII, var.equal=False, paired=FALSE)`\n",
    "  \n",
    "From R, we get a p-val of 0.09671\n",
    " "
   ]
  },
  {
   "cell_type": "markdown",
   "metadata": {},
   "source": [
    "#### ii) compute Wilcoxon rank sum test:    \n",
    "$Ho :$ two programs have the same mean : $F_2=F_3$  \n",
    "$Ha :$ two programs have different means  \n",
    "Rank our data first"
   ]
  },
  {
   "cell_type": "markdown",
   "metadata": {},
   "source": [
    "Rank all the data points in Program II and III:  \n",
    "rank = 1  2  3  4  5  6  7  8\n",
    "data = 0  0  1  2  3  3  4  5"
   ]
  },
  {
   "cell_type": "markdown",
   "metadata": {},
   "source": [
    "sort the rank:\n",
    "rank = 1.5  1.5  3  4  5.5  5.5  7  8 \n",
    "data = 0     0   1  2   3    3   4  5"
   ]
  },
  {
   "cell_type": "markdown",
   "metadata": {},
   "source": [
    "Program II:  \n",
    "$N_2 = 3$  \n",
    "$W_2 =$ sum of ranks in Program II $= 1.5+3+4 = 8.5$\n"
   ]
  },
  {
   "cell_type": "markdown",
   "metadata": {},
   "source": [
    "Program III:  \n",
    "$N_3 = 5$  \n",
    "$W_X = 5.5+5.5+7+1.5+8 = 27.5$   \n",
    "how many cases will produce a $W_X \\geq 27.5$  \n",
    "\n",
    "4 cases: $(5.5, 5.5, 7, 1.5, 8), (5.5, 5.5, 7, 1.5, 8),(5.5, 5.5, 7, 3, 8), (5.5, 5.5, 7, 4, 8)$ -> $W_X \\geq 27.5;$ since it's a one sided test"
   ]
  },
  {
   "cell_type": "markdown",
   "metadata": {},
   "source": [
    "$8\\choose3 $$= 56$  \n",
    "$P_{val} = \\frac{4}{56} = 0.0714286$"
   ]
  },
  {
   "cell_type": "markdown",
   "metadata": {},
   "source": [
    "since $P_{val}>\\alpha$ ;  \n",
    "in conclusion, Program III is more efficient than Program II in weight loss"
   ]
  },
  {
   "cell_type": "markdown",
   "metadata": {},
   "source": [
    "`wilcox.exact(ProgramII, ProgramIII, alternative= 'l', paired=FALSE, exact= FALSE)`  \n",
    "`p-value = 0.06568`\n",
    "\n",
    "  \n"
   ]
  },
  {
   "cell_type": "markdown",
   "metadata": {},
   "source": [
    "#### d)  \n",
    "   \n",
    "$W_x ～ N(\\frac{1}{2}N_2(N_2+N_3+1), \\frac{1}{12}N_2N_3(N_2+N_3+1)) ～ N(\\mu, \\sigma^2)$  \n",
    "\n",
    "  \n",
    "$~ N(.5(3)(9),\\frac{1}{12}(3)(5)(9))$  \n",
    "$\\mu=27/2, \\sigma^2=45/4$  \n",
    "\n",
    "using R-studio to compute the P_val = 0.106668  \n",
    "It is not very accurate here becuase the sample size is very small (n<20)"
   ]
  },
  {
   "cell_type": "markdown",
   "metadata": {},
   "source": [
    "compare the result to c), Wilconxon exact test gives a quite different result from the other two tests, it maybe not compute the exact p-val becuase it has many ties within the data set.\n",
    " "
   ]
  },
  {
   "cell_type": "markdown",
   "metadata": {},
   "source": [
    "#### e) permutation test   \n",
    "Use R to compute:  \n",
    "  \n",
    "`perm.test(Program2, Program3, paired=FALSE, alternative=\"l\", mu=0, exact=NULL, conf.int=FALSE, conf.level=0.95)`\n",
    "  \n",
    "$p_{val} = 0.1071$"
   ]
  },
  {
   "cell_type": "markdown",
   "metadata": {},
   "source": [
    "#### f) \n",
    "Permuatation test is the most reliable because it works well with small sample sizes that have ties.\n",
    "\n",
    "  \n",
    "T-test has a higher power among others because it gives the most accurate result when sample size is large and normally distributed"
   ]
  },
  {
   "cell_type": "markdown",
   "metadata": {},
   "source": [
    "### Problem 2"
   ]
  },
  {
   "cell_type": "markdown",
   "metadata": {},
   "source": [
    "#### a) using R-studio\n",
    "i) to Draw a side by side boxplot (plot attached on the last page); I used two lines of code:  \n",
    "`birthwt <- read.csv(\"birthwt.csv\", header=T)`\n",
    "`boxplot(birthwt$bwt~birthwt$smoke)`  \n",
    "\n",
    "boxplots overlap with both medians, therefore we conclude that there is NO difference between the smoker and non-smoker group  "
   ]
  },
  {
   "cell_type": "markdown",
   "metadata": {},
   "source": [
    "ii) Test significant difference using different tests\n"
   ]
  },
  {
   "cell_type": "markdown",
   "metadata": {},
   "source": [
    "`t.test(birthwt$bwt~birthwt$smoke)`  -> p-val = 0.007003  \n",
    "`wilcox.test(birthwt$bwt~birthwt$smoke)`  -> p-val = 0.006768  \n",
    "`mod1 <- aov(birthwt$bwt~birthwt$smoke)  \n",
    "summary(mod1)`  -> p-val = 0.00867 \n",
    "\n",
    "from the tests we reject null since all the p-val from the tests are smaller than the $\\alpha =0.05$  \n",
    "\n",
    "#### b)  \n",
    "i) histogram of all subjects refer to the attachment: it is normally distributed.  \n",
    "`hist(birthwt$bwt)`\n",
    "\n",
    "ii) QQplot refer to the attachment, it looks normally distributed.    \n",
    "`qqnorm(resid(mod1), main=\"Normal Q-Q Plot\")\n",
    "qqline(resid(mod1), col=\"red\")`\n",
    "  \n",
    "iii)  chi-square test:  \n",
    "`normalityTest(~bwt, test=\"pearson.test\", data=Dataset, n.classes=10)`  \n",
    "$p_{val} = 0.2278$"
   ]
  },
  {
   "cell_type": "markdown",
   "metadata": {},
   "source": [
    "#### Q3: Gender and Grade  \n",
    "\n",
    "a) Two-tailed test  \n",
    "    i)  \n",
    "    $Ho :$ there is no association between gender and grade  \n",
    "    $Ha :$ there is an association between gender and grade    "
   ]
  },
  {
   "cell_type": "markdown",
   "metadata": {},
   "source": [
    "                    female        male\n",
    "    Grade    Pass    18            16       34\n",
    "             Fail     2             4        6\n",
    "                     20            20       40\n",
    "                     \n",
    "                    female        male\n",
    "    Grade    Pass     a            b        a+b\n",
    "             Fail     c            d        c+d\n",
    "                     a+c          b+d     a+b+c+d\n",
    "                     \n",
    "                     \n",
    "p-val = $\\frac{(a+b)!(c+d)!(b+d)!}{n!a!b!c!d!}$   \n",
    "    all possible arrangement of a b c d and calculate p-val:\n",
    "    a  b  c  d     p-val\n",
    "    \n",
    "    20 14 0  6     0.010098\n",
    "    19 15 1  5     0.080784\n",
    "    18 16 2  4     0.239827\n",
    "    17 17 3  3     0.338580  \n",
    "  \n",
    "comupte p-val for every combination  \n",
    "    \n",
    "Fisher's exact test:   \n",
    "\n",
    "p-val = $\\frac{(a+b)!(c+d)!(b+d)!}{n!a!b!c!d!}$  \n",
    "\n",
    "sum up all the entries: we get 0.239827+0.080784+0.010098+0.338580 = 0.669289   \n",
    "p-val = 0.669289  \n",
    "\n",
    "Using R to compute fisher test:  \n",
    "\n",
    "`gendergrade.df = matrix(c(18,2,16,4), nrow = 2)\n",
    "fisher.test(gendergrade.df)`\n",
    "  \n",
    "we get p-val = 0.6604\n",
    "since p-val > 0.05, we do not reject $Ho$ at $\\alpha = 0.05$  "
   ]
  },
  {
   "cell_type": "markdown",
   "metadata": {},
   "source": [
    "Chi-square test:  \n",
    "\n",
    "                    female        male\n",
    "    Grade    Pass    18            16       34\n",
    "             Fail     2             4        6\n",
    "                     20            20       40\n",
    "                         \n",
    "                         Expected values\n",
    "                    female        male\n",
    "    Grade    Pass    17            17       34\n",
    "             Fail     3             3        6\n",
    "                     20            20       40\n",
    "\n",
    "$P_{ij} =$ P(observation falls in row $i$, column $j$)  \n",
    "$P_i =$  P(observation falls in row $i$) $= \\frac{o_i}{n}$  \n",
    "$P_j =$  P(observation falls in column $j$) $= \\frac{o_j}{n}$\n",
    "\n",
    "\n",
    "$Ho : P_{ij} = P_iP_j$     \n",
    "\n",
    "$\\frac{\\sum(O-E)^2}{E} = \\frac{(18-17)^2}{17}+\\frac{(16-17)^2}{17}+\\frac{(2-3)^2}{3}+\\frac{(4-3)^2}{3} = 0.78431$  \n",
    "\n",
    "$df = n-1 = 2-1$  \n",
    "$P_{val} = 0.3758$\n",
    "  \n",
    "\n",
    "Using R to compute chi-squared test: \n",
    "`chisq.test(gendergrade.df, correct=F)`  \n",
    "p-val = 0.3758, the result is not significant at p < 0.05; therefore we do not reject $Ho$\n",
    "\n"
   ]
  },
  {
   "cell_type": "markdown",
   "metadata": {},
   "source": [
    "b)  \n",
    "    i) Fisher's exact test is more reliable conclusion as it is almost exactly the same as our R computed fisher test p-val and the expected value <5. It is more reliable as it works well with smaller sample size.   \n",
    "    ii)   \n",
    "    two methods give very differnt results: the sample size is too small to use a chi-square test. And we will use the result from Fisher's exact test.  \n",
    "    two methods give similar results: the sample size is large enough that a chi-square test gives a similar result as a Fisher's exact test  \n",
    "    iii)  \n",
    "    because we can't use R during an exam; also computing the answers by hand would help a lot with understanding the methods."
   ]
  },
  {
   "cell_type": "markdown",
   "metadata": {},
   "source": [
    "#### Q4: \n",
    "\n",
    "\n"
   ]
  },
  {
   "cell_type": "markdown",
   "metadata": {},
   "source": [
    "Type II error = \"accept Ho\" | Ha is true = 1-power   \n",
    "  \n",
    "power = P(reject Ho | Ha is true)    \n",
    "  \n"
   ]
  },
  {
   "cell_type": "markdown",
   "metadata": {},
   "source": [
    "we do one example calculation on   \n",
    "i) n=9\n",
    "\n",
    "$P(\\frac{(\\bar{x}-\\bar{y})-0.1}{\\sqrt{\\frac{2\\sigma^2}{n}}} \\geq 1.645-\\frac{0.1}{\\sqrt{\\frac{2\\sigma^2}{n}}})$"
   ]
  },
  {
   "cell_type": "markdown",
   "metadata": {},
   "source": [
    "$P(\\frac{(\\bar{x}-\\bar{y})-0.1}{\\sqrt{\\frac{2}{9}}} \\geq 1.645-\\frac{0.1}{\\sqrt{\\frac{2}{9}}})  = P(Z>1.43286)$  \n",
    "  \n",
    "we look at z-table and find the p-val to be 0.9236   \n",
    "$P_{val} = 0.9236$  \n",
    "Power = 1-0.9236 = 0.0764  \n",
    "\n",
    "For the other ones i used R to compute the Power:\n",
    "`d= 0.1\n",
    "n= 25\n",
    "pnorm(1.645-d/sqrt(2/n), lower.tail = FALSE)`\n",
    "where d = the difference between $\\mu_1$ and $\\mu_2$ and n = sample size  \n"
   ]
  },
  {
   "cell_type": "markdown",
   "metadata": {},
   "source": [
    "     n      power\n",
    "     9      0.0764  \n",
    "     25     0.09827443\n",
    "     100    0.1741496"
   ]
  },
  {
   "cell_type": "markdown",
   "metadata": {},
   "source": [
    "ii) "
   ]
  },
  {
   "cell_type": "markdown",
   "metadata": {},
   "source": [
    "     n      power\n",
    "     9      0.2794959  \n",
    "     25     0.5488542\n",
    "     100    0.9706567\n"
   ]
  },
  {
   "cell_type": "markdown",
   "metadata": {},
   "source": [
    "iii)"
   ]
  },
  {
   "cell_type": "markdown",
   "metadata": {},
   "source": [
    "     n      power\n",
    "     9      0.6830769  \n",
    "     25     0.9706567\n",
    "     100    1.0000000"
   ]
  },
  {
   "cell_type": "markdown",
   "metadata": {},
   "source": [
    "b)  \n",
    "$P(Z>1.645-\\frac{1}{\\sqrt{2\\sigma^2/n}}) \\geq 0.80$  \n",
    "$= 1.645 - \\frac{1}{\\sqrt{2(1)/n}} \\leq -0.845$  \n",
    "$= 1.645 +0.845 \\leq \\frac{1}{\\sqrt{2(1)/n}}$  \n",
    "$= 2.49 \\leq \\frac{1}{\\sqrt{2(1)/n}}$  \n",
    "$= 2.49\\sqrt{2/n} \\leq 1$  \n",
    "$= 6.2001(2/n) \\leq 1$  \n",
    "$= n \\geq 12.4002$  \n",
    "\n",
    "  \n",
    "n needs to be 13"
   ]
  },
  {
   "cell_type": "markdown",
   "metadata": {
    "collapsed": true
   },
   "source": [
    "c)  \n",
    "    i)  There are new tests that are more unbiased and powerful by using simple mechanisms to resolve the biased problem of LRT, but these tests are not the perfect solution as they may generate inappropriate statistical inferences. In conclusion, we cannot say the LRT is flawed, but the superior tests.  \n",
    "    ii) We need to examine the situation and the characteristics of data before making the decision whether to use a certain test. We should not just blindly look for tests that are more superior or powerful because in those cases, the tests might give a more inappropriate inferences."
   ]
  }
 ],
 "metadata": {
  "kernelspec": {
   "display_name": "Python 3",
   "language": "python",
   "name": "python3"
  },
  "language_info": {
   "codemirror_mode": {
    "name": "ipython",
    "version": 3
   },
   "file_extension": ".py",
   "mimetype": "text/x-python",
   "name": "python",
   "nbconvert_exporter": "python",
   "pygments_lexer": "ipython3",
   "version": "3.6.0"
  }
 },
 "nbformat": 4,
 "nbformat_minor": 2
}
